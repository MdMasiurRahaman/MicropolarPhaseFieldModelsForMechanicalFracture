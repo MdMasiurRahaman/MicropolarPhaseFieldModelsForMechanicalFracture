{
 "cells": [
  {
   "cell_type": "code",
   "execution_count": 1,
   "id": "ab7198fc",
   "metadata": {},
   "outputs": [],
   "source": [
    "using Gmsh: gmsh\n",
    "using Gridap\n",
    "using GridapGmsh\n",
    "using Gridap.TensorValues\n",
    "using PyPlot\n",
    "using LinearAlgebra"
   ]
  },
  {
   "cell_type": "code",
   "execution_count": 2,
   "id": "ed672b17",
   "metadata": {},
   "outputs": [
    {
     "data": {
      "text/plain": [
       "SymFourthOrderTensorValue{2, Float64, 9}(0.5, 0.0, -0.5, 0.0, 0.5, 0.0, -0.5, 0.0, 0.5)"
      ]
     },
     "execution_count": 2,
     "metadata": {},
     "output_type": "execute_result"
    }
   ],
   "source": [
    "I2 = SymTensorValue{2,Float64}(1.0 ,0.0 ,1.0)\n",
    "I4 = I2⊗I2\n",
    "I4_sym = one(SymFourthOrderTensorValue{2,Float64})\n",
    "I4_vol = (1.0/2)*I4\n",
    "I4_dev = I4_sym  - I4_vol"
   ]
  },
  {
   "cell_type": "code",
   "execution_count": 3,
   "id": "interim-caution",
   "metadata": {
    "scrolled": true
   },
   "outputs": [
    {
     "name": "stdout",
     "output_type": "stream",
     "text": [
      "Info    : Meshing 1D...\n",
      "Info    : [  0%] Meshing curve 1 (Line)\n",
      "Info    : [ 20%] Meshing curve 2 (Line)\n",
      "Info    : [ 30%] Meshing curve 3 (Line)\n",
      "Info    : [ 40%] Meshing curve 4 (Line)\n",
      "Info    : [ 50%] Meshing curve 5 (Line)\n",
      "Info    : [ 60%] Meshing curve 6 (Line)\n",
      "Info    : [ 70%] Meshing curve 7 (Line)\n",
      "Info    : [ 80%] Meshing curve 8 (Line)\n",
      "Info    : [ 90%] Meshing curve 9 (Line)\n",
      "Info    : Done meshing 1D (Wall 0.0202963s, CPU 0.020224s)\n",
      "Info    : Meshing 2D...\n",
      "Info    : Meshing surface 1 (Plane, Frontal-Delaunay)\n",
      "Info    : Done meshing 2D (Wall 0.136454s, CPU 0.136363s)\n",
      "Info    : 4775 nodes 9557 elements\n",
      "Info    : Writing 'BeamWithNotchSymThreePtBending.msh'...\n",
      "Info    : Done writing 'BeamWithNotchSymThreePtBending.msh'\n"
     ]
    },
    {
     "name": "stderr",
     "output_type": "stream",
     "text": [
      "Warning : Unknown entity of dimension 2 and tag 1 in physical group 1\n",
      "Warning : Unknown entity of dimension 1 and tag 4 in physical group 1\n",
      "Warning : Unknown entity of dimension 1 and tag 8 in physical group 11\n",
      "Warning : Unknown entity of dimension 1 and tag 9 in physical group 11\n",
      "Warning : Unknown entity of dimension 0 and tag 7 in physical group 2\n",
      "Warning : Unknown entity of dimension 0 and tag 2 in physical group 3\n"
     ]
    }
   ],
   "source": [
    "using  Gmsh: gmsh\n",
    "const  L = 8.0\n",
    "const  LL = 0.475.*L\n",
    "const  LR = 0.525.*L\n",
    "const  H = 2.0\n",
    "const  CH = 0.4 #Crack  height\n",
    "const  CW = 0.2 #Crack  Width\n",
    "const  lsp = 0.03\n",
    "const  hfc = lsp/100 #Mesh  size  parameter\n",
    "const  hf = lsp/2.1 #Mesh  size  parameter\n",
    "const  h = 100*hf #Mesh  size  parameter\n",
    "gmsh.initialize()\n",
    "gmsh.option.setNumber(\"General.Terminal\", 1)\n",
    "gmsh.model.geo.addPoint((L/2)+(CW/2), 0.0 , 0.0, hf ,1)\n",
    "gmsh.model.geo.addPoint(L, 0.0, 0.0, h, 2)\n",
    "gmsh.model.geo.addPoint(L, H, 0.0, h, 3)\n",
    "gmsh.model.geo.addPoint(LR , H, 0.0, hf, 4)\n",
    "gmsh.model.geo.addPoint(LL , H, 0.0, hf, 5)\n",
    "gmsh.model.geo.addPoint(0.0, H, 0.0, h, 6)\n",
    "gmsh.model.geo.addPoint(0.0, 0.0, 0.0, h, 7)\n",
    "gmsh.model.geo.addPoint((L/2) -(CW/2), 0.0 , 0.0, hf ,8)\n",
    "gmsh.model.geo.addPoint((L/2), CH , 0.0, hfc , 9)\n",
    "gmsh.model.geo.addLine(1, 2, 1)\n",
    "gmsh.model.geo.addLine(2, 3, 2)\n",
    "gmsh.model.geo.addLine(3, 4, 3)\n",
    "gmsh.model.geo.addLine(4, 5, 4)\n",
    "gmsh.model.geo.addLine(5, 6, 5)\n",
    "gmsh.model.geo.addLine(6, 7, 6)\n",
    "gmsh.model.geo.addLine(7, 8, 7)\n",
    "gmsh.model.geo.addLine(8, 9, 8)\n",
    "gmsh.model.geo.addLine(9, 1, 9)\n",
    "\n",
    "gmsh.model.geo.addCurveLoop([1,2,3,4,5,6,7,8,9],1)\n",
    "gmsh.model.geo.addPlaneSurface([1], 1)\n",
    "gmsh.model.addPhysicalGroup(2, [1],1)\n",
    "gmsh.model.addPhysicalGroup(1, [4],1)\n",
    "gmsh.model.addPhysicalGroup(1, [8,9],11)\n",
    "gmsh.model.addPhysicalGroup(0, [7],2)\n",
    "gmsh.model.addPhysicalGroup(0, [2],3)\n",
    "gmsh.model.setPhysicalName(2, 1, \"Domain\")\n",
    "gmsh.model.setPhysicalName(1, 1, \"LoadLine\")\n",
    "gmsh.model.setPhysicalName(1, 11, \"EnergyLine\")\n",
    "gmsh.model.setPhysicalName(0, 2, \"LeftSupport\")\n",
    "gmsh.model.setPhysicalName(0, 3, \"RightSupport\")\n",
    "gmsh.model.mesh.field.add(\"Box\", 10)\n",
    "gmsh.model.mesh.field.setNumber(10, \"VIn\", hf)\n",
    "gmsh.model.mesh.field.setNumber(10, \"VOut\", h)\n",
    "gmsh.model.mesh.field.setNumber(10, \"XMin\", (L/2)-CW)\n",
    "gmsh.model.mesh.field.setNumber(10, \"XMax\", (L/2)+CW)\n",
    "gmsh.model.mesh.field.setNumber(10, \"YMin\", 0)\n",
    "gmsh.model.mesh.field.setNumber(10, \"YMax\", H)\n",
    "gmsh.model.mesh.field.setAsBackgroundMesh(10)\n",
    "gmsh.model.geo.synchronize()\n",
    "gmsh.model.mesh.generate(2)\n",
    "gmsh.write(\"BeamWithNotchSymThreePtBending.msh\")\n",
    "gmsh.finalize()"
   ]
  },
  {
   "cell_type": "code",
   "execution_count": 4,
   "id": "1746091a",
   "metadata": {},
   "outputs": [
    {
     "name": "stdout",
     "output_type": "stream",
     "text": [
      "Info    : Reading 'BeamWithNotchSymThreePtBending.msh'...\n",
      "Info    : 19 entities\n",
      "Info    : 4775 nodes\n",
      "Info    : 9478 elements\n",
      "Info    : Done reading 'BeamWithNotchSymThreePtBending.msh'\n"
     ]
    },
    {
     "data": {
      "text/plain": [
       "3-element Vector{Vector{String}}:\n",
       " [\"BeamWithNotchSymThreePtBending_0.vtu\"]\n",
       " [\"BeamWithNotchSymThreePtBending_1.vtu\"]\n",
       " [\"BeamWithNotchSymThreePtBending_2.vtu\"]"
      ]
     },
     "execution_count": 4,
     "metadata": {},
     "output_type": "execute_result"
    }
   ],
   "source": [
    "model = GmshDiscreteModel(\"BeamWithNotchSymThreePtBending.msh\")\n",
    "writevtk(model,\"BeamWithNotchSymThreePtBending\")"
   ]
  },
  {
   "cell_type": "code",
   "execution_count": 5,
   "id": "41326f7b",
   "metadata": {
    "scrolled": false
   },
   "outputs": [
    {
     "data": {
      "text/plain": [
       "9220-element Vector{Int8}:\n",
       " 5\n",
       " 5\n",
       " 5\n",
       " 5\n",
       " 5\n",
       " 5\n",
       " 5\n",
       " 5\n",
       " 5\n",
       " 5\n",
       " 5\n",
       " 5\n",
       " 5\n",
       " ⋮\n",
       " 5\n",
       " 5\n",
       " 5\n",
       " 5\n",
       " 5\n",
       " 5\n",
       " 5\n",
       " 5\n",
       " 5\n",
       " 5\n",
       " 5\n",
       " 5"
      ]
     },
     "execution_count": 5,
     "metadata": {},
     "output_type": "execute_result"
    }
   ],
   "source": [
    "using Gridap.Geometry\n",
    "labels = get_face_labeling(model)\n",
    "dimension = 2\n",
    "mat_tags = get_face_tag(labels,dimension)"
   ]
  },
  {
   "cell_type": "code",
   "execution_count": 6,
   "id": "6e1500bb",
   "metadata": {},
   "outputs": [
    {
     "data": {
      "text/plain": [
       "1.0e-15"
      ]
     },
     "execution_count": 6,
     "metadata": {},
     "output_type": "execute_result"
    }
   ],
   "source": [
    "const E = 20.8\n",
    "const ν = 0.3\n",
    "const Gc = 5e-4\n",
    "G = E/(2*(1+ν))\n",
    "l = 0.5\n",
    "N = 0.5\n",
    "const η = 1e-15"
   ]
  },
  {
   "cell_type": "code",
   "execution_count": 7,
   "id": "5bf828a6",
   "metadata": {},
   "outputs": [
    {
     "data": {
      "text/plain": [
       "7.999999999999996"
      ]
     },
     "execution_count": 7,
     "metadata": {},
     "output_type": "execute_result"
    }
   ],
   "source": [
    "μ = 5.33333333333333\n",
    "κ = 5.33333333333333\n",
    "λ = 11.999999999999993\n",
    "γ = 7.999999999999996"
   ]
  },
  {
   "cell_type": "code",
   "execution_count": 8,
   "id": "dental-mouse",
   "metadata": {},
   "outputs": [
    {
     "data": {
      "text/plain": [
       "σ_Bmod (generic function with 1 method)"
      ]
     },
     "execution_count": 8,
     "metadata": {},
     "output_type": "execute_result"
    }
   ],
   "source": [
    "function σ_Bmod(ε, ε_in, s_in)\n",
    "    if tr(ε_in) >= 0\n",
    "        σM = (s_in^2 + η)*((λ + μ + (κ/2))*tr(ε)*one(ε) + (2*μ + κ)*(I4_dev ⊙ ε))\n",
    "    else\n",
    "        σM = (s_in^2 + η)*((2*μ + κ)*(I4_dev ⊙ ε)) + (λ + μ + (κ/2))*tr(ε)*one(ε)\n",
    "    end\n",
    "    return σM\n",
    "end"
   ]
  },
  {
   "cell_type": "code",
   "execution_count": 9,
   "id": "5d043cc5",
   "metadata": {},
   "outputs": [
    {
     "data": {
      "text/plain": [
       "TensorValue{2, 2, Int64, 4}(0, 1, -1, 0)"
      ]
     },
     "execution_count": 9,
     "metadata": {},
     "output_type": "execute_result"
    }
   ],
   "source": [
    "E_Matrx = TensorValue(0,1,-1,0)"
   ]
  },
  {
   "cell_type": "code",
   "execution_count": 10,
   "id": "9f8f69b4",
   "metadata": {},
   "outputs": [
    {
     "data": {
      "text/plain": [
       "ε_Skw (generic function with 1 method)"
      ]
     },
     "execution_count": 10,
     "metadata": {},
     "output_type": "execute_result"
    }
   ],
   "source": [
    "function ε_Skw(∇,θ)\n",
    "    ∇ᵀ = transpose(∇)\n",
    "    w = (0.5*(∇ᵀ - ∇)) - (E_Matrx*θ)\n",
    "    return w\n",
    "end"
   ]
  },
  {
   "cell_type": "code",
   "execution_count": 11,
   "id": "b7ab7a3c",
   "metadata": {},
   "outputs": [
    {
     "data": {
      "text/plain": [
       "σ_Cmod (generic function with 1 method)"
      ]
     },
     "execution_count": 11,
     "metadata": {},
     "output_type": "execute_result"
    }
   ],
   "source": [
    "function σ_Cmod(ϵ_skew, s_in)\n",
    "    σM = (s_in^2 + η)*(κ*ϵ_skew)\n",
    "    return σM\n",
    "end"
   ]
  },
  {
   "cell_type": "code",
   "execution_count": 12,
   "id": "9fb6f0fe",
   "metadata": {},
   "outputs": [
    {
     "data": {
      "text/plain": [
       "M_mod (generic function with 1 method)"
      ]
     },
     "execution_count": 12,
     "metadata": {},
     "output_type": "execute_result"
    }
   ],
   "source": [
    "function M_mod(∇, s_in)\n",
    "    M = (s_in^2 + η)*(γ*∇)\n",
    "    return M\n",
    "end"
   ]
  },
  {
   "cell_type": "code",
   "execution_count": 13,
   "id": "f2202328",
   "metadata": {},
   "outputs": [
    {
     "data": {
      "text/plain": [
       "ψPos (generic function with 1 method)"
      ]
     },
     "execution_count": 13,
     "metadata": {},
     "output_type": "execute_result"
    }
   ],
   "source": [
    "function ψPos(ε_in,∇_uh,θ, ∇_th)\n",
    "    ∇_uhᵀ = transpose(∇_uh)\n",
    "    ϵ_skew = 0.5*(∇_uhᵀ - ∇_uh) - E_Matrx*θ\n",
    "    if tr(ε_in) >= 0\n",
    "        ψPos = 0.5*((λ + μ + (κ/2))*(tr(ε_in))^2 + (2*μ+κ)*((I4_dev ⊙ ε_in) ⊙ (I4_dev ⊙ ε_in))) + 0.5*(κ*(ϵ_skew ⊙ ϵ_skew)) + 0.5*γ*(∇_th ⋅ ∇_th)\n",
    "    else\n",
    "        ψPos = 0.5*((2*μ+κ)*((I4_dev ⊙ ε_in) ⊙ (I4_dev ⊙ ε_in))) + 0.5*(κ*(ϵ_skew ⊙ ϵ_skew)) + 0.5*γ*(∇_th ⋅ ∇_th)\n",
    "    end\n",
    "    return ψPos \n",
    "end"
   ]
  },
  {
   "cell_type": "code",
   "execution_count": 14,
   "id": "local-freeware",
   "metadata": {},
   "outputs": [
    {
     "data": {
      "text/plain": [
       "new_EnergyState (generic function with 1 method)"
      ]
     },
     "execution_count": 14,
     "metadata": {},
     "output_type": "execute_result"
    }
   ],
   "source": [
    "function new_EnergyState(ψPlusPrev_in,ψhPos_in)\n",
    "    ψPlus_in = ψhPos_in\n",
    "    if ψPlus_in >= ψPlusPrev_in\n",
    "        ψPlus_out = ψPlus_in\n",
    "    else\n",
    "        ψPlus_out = ψPlusPrev_in\n",
    "    end\n",
    "    true,ψPlus_out\n",
    "end"
   ]
  },
  {
   "cell_type": "code",
   "execution_count": 15,
   "id": "3bf5a3ce",
   "metadata": {},
   "outputs": [
    {
     "data": {
      "text/plain": [
       "project (generic function with 1 method)"
      ]
     },
     "execution_count": 15,
     "metadata": {},
     "output_type": "execute_result"
    }
   ],
   "source": [
    "function project(q,model,dΩ,order)\n",
    "  reffe = ReferenceFE(lagrangian,Float64,order)\n",
    "  V = FESpace(model,reffe,conformity=:L2)\n",
    "  a(u,v) = ∫( u*v )*dΩ\n",
    "  l(v) = ∫( v*q )*dΩ\n",
    "  op = AffineFEOperator(a,l,V,V)\n",
    "  qh = solve(op)\n",
    "  qh\n",
    "end"
   ]
  },
  {
   "cell_type": "code",
   "execution_count": 16,
   "id": "3f46de93",
   "metadata": {},
   "outputs": [
    {
     "data": {
      "text/plain": [
       "2"
      ]
     },
     "execution_count": 16,
     "metadata": {},
     "output_type": "execute_result"
    }
   ],
   "source": [
    "order = 1\n",
    "degree = 2*order"
   ]
  },
  {
   "cell_type": "code",
   "execution_count": 17,
   "id": "86f3f2bf",
   "metadata": {},
   "outputs": [
    {
     "data": {
      "text/plain": [
       "Measure()"
      ]
     },
     "execution_count": 17,
     "metadata": {},
     "output_type": "execute_result"
    }
   ],
   "source": [
    "Ω = Triangulation(model)\n",
    "dΩ = Measure(Ω,degree)"
   ]
  },
  {
   "cell_type": "code",
   "execution_count": 18,
   "id": "absolute-workplace",
   "metadata": {},
   "outputs": [
    {
     "data": {
      "text/plain": [
       "SingleFieldFEFunction():\n",
       " num_cells: 9220\n",
       " DomainStyle: ReferenceDomain()\n",
       " Triangulation: BodyFittedTriangulation()\n",
       " Triangulation id: 1774793488823782278"
      ]
     },
     "execution_count": 18,
     "metadata": {},
     "output_type": "execute_result"
    }
   ],
   "source": [
    "sId = CellState(1.0,dΩ)\n",
    "shId = project(sId,model,dΩ,order)"
   ]
  },
  {
   "cell_type": "code",
   "execution_count": 19,
   "id": "700af0f9",
   "metadata": {},
   "outputs": [
    {
     "data": {
      "text/plain": [
       "GenericCellField():\n",
       " num_cells: 28\n",
       " DomainStyle: ReferenceDomain()\n",
       " Triangulation: BoundaryTriangulation()\n",
       " Triangulation id: 9971140395306233032"
      ]
     },
     "execution_count": 19,
     "metadata": {},
     "output_type": "execute_result"
    }
   ],
   "source": [
    "LoadTagId = get_tag_from_name(labels,\"LoadLine\")\n",
    "Γ_Load = BoundaryTriangulation(model,tags = LoadTagId)\n",
    "dΓ_Load = Measure(Γ_Load,degree)\n",
    "n_Γ_Load = get_normal_vector(Γ_Load)"
   ]
  },
  {
   "cell_type": "code",
   "execution_count": 20,
   "id": "6ea06416",
   "metadata": {},
   "outputs": [
    {
     "data": {
      "text/plain": [
       "Measure()"
      ]
     },
     "execution_count": 20,
     "metadata": {},
     "output_type": "execute_result"
    }
   ],
   "source": [
    "EnergyTagId = get_tag_from_name(labels,\"EnergyLine\")\n",
    "E_Load = BoundaryTriangulation(model,tags = EnergyTagId)\n",
    "dE_Load = Measure(E_Load,degree)"
   ]
  },
  {
   "cell_type": "code",
   "execution_count": 21,
   "id": "950f5dcd",
   "metadata": {},
   "outputs": [
    {
     "data": {
      "text/plain": [
       "SingleFieldFEFunction():\n",
       " num_cells: 9220\n",
       " DomainStyle: ReferenceDomain()\n",
       " Triangulation: BodyFittedTriangulation()\n",
       " Triangulation id: 1774793488823782278"
      ]
     },
     "execution_count": 21,
     "metadata": {},
     "output_type": "execute_result"
    }
   ],
   "source": [
    "reffe_PF = ReferenceFE(lagrangian,Float64,order)\n",
    "V0_PF = TestFESpace(model,reffe_PF;conformity=:H1)\n",
    "sh = zero(V0_PF)"
   ]
  },
  {
   "cell_type": "code",
   "execution_count": 22,
   "id": "14340b87",
   "metadata": {},
   "outputs": [
    {
     "data": {
      "text/plain": [
       "SingleFieldFEFunction():\n",
       " num_cells: 9220\n",
       " DomainStyle: ReferenceDomain()\n",
       " Triangulation: BodyFittedTriangulation()\n",
       " Triangulation id: 1774793488823782278"
      ]
     },
     "execution_count": 22,
     "metadata": {},
     "output_type": "execute_result"
    }
   ],
   "source": [
    "reffe_theta = ReferenceFE(lagrangian,Float64,order)\n",
    "V0_theta  = TestFESpace(model,reffe_theta;\n",
    "  conformity=:H1)\n",
    "θh = zero(V0_theta)"
   ]
  },
  {
   "cell_type": "code",
   "execution_count": 23,
   "id": "1942f3e1",
   "metadata": {},
   "outputs": [
    {
     "data": {
      "text/plain": [
       "SingleFieldFEFunction():\n",
       " num_cells: 9220\n",
       " DomainStyle: ReferenceDomain()\n",
       " Triangulation: BodyFittedTriangulation()\n",
       " Triangulation id: 1774793488823782278"
      ]
     },
     "execution_count": 23,
     "metadata": {},
     "output_type": "execute_result"
    }
   ],
   "source": [
    "reffe_Disp = ReferenceFE(lagrangian,VectorValue{2,Float64},order)\n",
    "        V0_Disp = TestFESpace(model,reffe_Disp;\n",
    "          conformity=:H1,\n",
    "          dirichlet_tags=[\"LeftSupport\",\"RightSupport\",\"LoadLine\"],\n",
    "          dirichlet_masks=[(false, true), (true, true), (false, true)])\n",
    "\n",
    "uh = zero(V0_Disp)"
   ]
  },
  {
   "cell_type": "code",
   "execution_count": 24,
   "id": "e2183bf7",
   "metadata": {},
   "outputs": [
    {
     "data": {
      "text/plain": [
       "MultiFieldFESpace()"
      ]
     },
     "execution_count": 24,
     "metadata": {},
     "output_type": "execute_result"
    }
   ],
   "source": [
    "V0 = MultiFieldFESpace([V0_Disp,V0_theta])"
   ]
  },
  {
   "cell_type": "code",
   "execution_count": 25,
   "id": "3e5674ef",
   "metadata": {},
   "outputs": [
    {
     "data": {
      "text/plain": [
       "stepPhaseField (generic function with 1 method)"
      ]
     },
     "execution_count": 25,
     "metadata": {},
     "output_type": "execute_result"
    }
   ],
   "source": [
    "function  stepPhaseField(uh_in,ψPlusPrev_in)\n",
    "    U_PF = TrialFESpace(V0_PF)\n",
    "        a_PF(s,ϕ) = ∫( (Gc*lsp*∇(ϕ)⋅ ∇(s)) + (2*ψPlusPrev_in*s*ϕ)  + ((Gc/lsp)*s*ϕ) )*dΩ\n",
    "        b_PF(ϕ) = ∫( (Gc/lsp)*ϕ )*dΩ\n",
    "        op_PF = AffineFEOperator(a_PF,b_PF,U_PF,V0_PF)\n",
    "        sh_out = solve(op_PF)\n",
    "    return sh_out\n",
    "end"
   ]
  },
  {
   "cell_type": "code",
   "execution_count": 26,
   "id": "839eb039",
   "metadata": {},
   "outputs": [
    {
     "data": {
      "text/plain": [
       "Skw (generic function with 1 method)"
      ]
     },
     "execution_count": 26,
     "metadata": {},
     "output_type": "execute_result"
    }
   ],
   "source": [
    "function Skw(u,θ)\n",
    "    ∇ᵀ = transpose(∇(u))\n",
    "    w = (0.5*(∇ᵀ - ∇(u)) - (E_Matrx*θ))\n",
    "    return w\n",
    "end"
   ]
  },
  {
   "cell_type": "code",
   "execution_count": 27,
   "id": "9eab4a9c",
   "metadata": {},
   "outputs": [
    {
     "data": {
      "text/plain": [
       "stepDisp (generic function with 1 method)"
      ]
     },
     "execution_count": 27,
     "metadata": {},
     "output_type": "execute_result"
    }
   ],
   "source": [
    "function   stepDisp(uh_in,θ_in,sh_in,uApp)\n",
    "        uApp1(x) = VectorValue(0.0,0.0)\n",
    "        uApp2(x) = VectorValue(0.0,0.0)\n",
    "        uApp3(x) = VectorValue(0.0,-uApp)\n",
    "        U_Disp = TrialFESpace(V0_Disp,[uApp1,uApp2,uApp3])\n",
    "        \n",
    "        U_theta = TrialFESpace(V0_theta)\n",
    "        U = MultiFieldFESpace([U_Disp,U_theta ])\n",
    "\n",
    "        a((u,θ),(w,v))  = ∫( (ε(w) ⊙ (σ_Bmod∘(ε(u),ε(uh_in),sh_in)) ) + ((Skw(w,v)) ⊙ (σ_Cmod∘(ε_Skw∘(∇(u),θ), sh_in)) ) + ((∇(v))⋅ (M_mod∘(∇(θ),sh_in))) - (v*((E_Matrx) ⊙ (σ_Cmod∘(ε_Skw∘(∇(u),θ),sh_in))) ))*dΩ\n",
    "        b((w,v))= 0\n",
    "        op_Disp = AffineFEOperator(a,b,U,V0)\n",
    "        uh_out = solve(op_Disp)\n",
    "        uh_out,phih_out = uh_out\n",
    "    return uh_out, phih_out\n",
    "end"
   ]
  },
  {
   "cell_type": "code",
   "execution_count": 28,
   "id": "d92bcca5",
   "metadata": {},
   "outputs": [],
   "source": [
    "cd(\"Results_N0.5_l0.5\")"
   ]
  },
  {
   "cell_type": "code",
   "execution_count": 29,
   "id": "8a4b863f",
   "metadata": {},
   "outputs": [
    {
     "name": "stdout",
     "output_type": "stream",
     "text": [
      "\n",
      " Entering displacemtent step1 :0.001\n",
      " Relative error = 7.43106511516683e-17\n",
      " Entering displacemtent step2 :0.002\n",
      " Relative error = 6.871123061042758e-6\n",
      " Relative error = 2.0613038449451892e-5\n",
      " Relative error = 2.6819568100256155e-9\n",
      " Entering displacemtent step3 :0.003\n",
      " Relative error = 3.2630294471134807e-12\n",
      " Entering displacemtent step4 :0.004\n",
      " Relative error = 3.435108472232666e-5\n",
      " Relative error = 4.809253350103958e-5\n",
      " Relative error = 2.5095595626911982e-8\n",
      " Relative error = 1.225272166777922e-10\n",
      " Entering displacemtent step5 :0.005\n",
      " Relative error = 8.681846701298796e-13\n",
      " Entering displacemtent step6 :0.006\n",
      " Relative error = 6.180332676439251e-5\n",
      " Relative error = 7.556096987103006e-5\n",
      " Relative error = 8.928607759781364e-8\n",
      " Relative error = 9.872814468362376e-10\n",
      " Entering displacemtent step7 :0.007\n",
      " Relative error = 1.582720298835683e-11\n",
      " Entering displacemtent step8 :0.008\n",
      " Relative error = 8.919892938068294e-5\n",
      " Relative error = 0.00010301186564375403\n",
      " Relative error = 2.186243223119817e-7\n",
      " Relative error = 4.340220874762214e-9\n",
      " Entering displacemtent step9 :0.009000000000000001\n",
      " Relative error = 1.2468840439354495e-10\n",
      " Entering displacemtent step10 :0.010000000000000002\n",
      " Relative error = 0.00011650662851570961\n",
      " Relative error = 0.00013043847069197384\n",
      " Relative error = 4.387121270802607e-7\n",
      " Relative error = 1.3789885660859577e-8\n",
      " Relative error = 6.256087547412274e-10\n",
      " Entering displacemtent step11 :0.011000000000000003\n",
      " Relative error = 3.056284206223583e-11\n",
      " Entering displacemtent step12 :0.012000000000000004\n",
      " Relative error = 0.00014369114867905048\n",
      " Relative error = 0.0001578336361553072\n",
      " Relative error = 7.784449892558083e-7\n",
      " Relative error = 3.5828109972636684e-8\n",
      " Relative error = 2.3720387074901957e-9\n",
      " Entering displacemtent step13 :0.013000000000000005\n",
      " Relative error = 1.6890975844487902e-10\n",
      " Entering displacemtent step14 :0.014000000000000005\n",
      " Relative error = 0.00017071102122023703\n",
      " Relative error = 0.0001851896463650481\n",
      " Relative error = 1.2713491545467575e-6\n",
      " Relative error = 8.128097897717183e-8\n",
      " Relative error = 7.444433656730187e-9\n",
      " Entering displacemtent step15 :0.015000000000000006\n",
      " Relative error = 7.323445782138151e-10\n",
      " Entering displacemtent step16 :0.016000000000000007\n",
      " Relative error = 0.0001975153291447039\n",
      " Relative error = 0.00021249798850417537\n",
      " Relative error = 1.9573344968501632e-6\n",
      " Relative error = 1.6744710605950694e-7\n",
      " Relative error = 2.04240576210035e-8\n",
      " Relative error = 2.6716738403176277e-9\n",
      " Entering displacemtent step17 :0.017000000000000008\n",
      " Relative error = 3.551253046892961e-10\n",
      " Entering displacemtent step18 :0.01800000000000001\n",
      " Relative error = 0.0002240384656214491\n",
      " Relative error = 0.00023974901085888433\n",
      " Relative error = 2.885177001466468e-6\n",
      " Relative error = 3.213606988844826e-7\n",
      " Relative error = 5.0757924850581134e-8\n",
      " Relative error = 8.585185554181306e-9\n",
      " Entering displacemtent step19 :0.01900000000000001\n",
      " Relative error = 1.4751920303035868e-9\n",
      " Entering displacemtent step20 :0.02000000000000001\n",
      " Relative error = 0.00025019247955471565\n",
      " Relative error = 0.0002669314164973608\n",
      " Relative error = 4.115916294636241e-6\n",
      " Relative error = 5.849429073521276e-7\n",
      " Relative error = 1.1717441090768242e-7\n",
      " Relative error = 2.5098348024111765e-8\n",
      " Relative error = 5.460440127923501e-9\n",
      " Entering displacemtent step21 :0.02100000000000001\n",
      " Relative error = 1.1934117677643673e-9\n",
      " Entering displacemtent step22 :0.022000000000000013\n",
      " Relative error = 0.00027585114886653235\n",
      " Relative error = 0.0002940313621244984\n",
      " Relative error = 5.727930871929116e-6\n",
      " Relative error = 1.0232581070938663e-6\n",
      " Relative error = 2.559930101784691e-7\n",
      " Relative error = 6.839126709415045e-8\n",
      " Relative error = 1.8558251280633017e-8\n",
      " Relative error = 5.059097049596654e-9\n",
      " Entering displacemtent step23 :0.023000000000000013\n",
      " Relative error = 1.3812026024568699e-9\n",
      " Entering displacemtent step24 :0.024000000000000014\n",
      " Relative error = 0.00030082426359810633\n",
      " Relative error = 0.00032103097046179424\n",
      " Relative error = 7.825940542842547e-6\n",
      " Relative error = 1.7388765281594003e-6\n",
      " Relative error = 5.374004043307769e-7\n",
      " Relative error = 1.771729741730975e-7\n",
      " Relative error = 5.9346228478843336e-8\n",
      " Relative error = 1.9975608051224887e-8\n",
      " Relative error = 6.7345815281456295e-9\n",
      " Entering displacemtent step25 :0.025000000000000015\n",
      " Relative error = 2.271765911066868e-9\n",
      " Entering displacemtent step26 :0.026000000000000016\n",
      " Relative error = 0.0003247979370422136\n",
      " Relative error = 0.0003479052329689276\n",
      " Relative error = 1.0557687012262447e-5\n",
      " Relative error = 2.8985624708407243e-6\n",
      " Relative error = 1.0988036381422298e-6\n",
      " Relative error = 4.44198161269408e-7\n",
      " Relative error = 1.826131802285427e-7\n",
      " Relative error = 7.549227785301415e-8\n",
      " Relative error = 3.127175232073011e-8\n",
      " Relative error = 1.2963850468408712e-8\n",
      " Entering displacemtent step27 :0.027000000000000017\n",
      " Relative error = 5.375806423265318e-9\n",
      " Entering displacemtent step28 :0.028000000000000018\n",
      " Relative error = 0.0003471944147454114\n",
      " Relative error = 0.0003746151973864364\n",
      " Relative error = 1.4138082619774468e-5\n",
      " Relative error = 4.785940394664902e-6\n",
      " Relative error = 2.219164933358661e-6\n",
      " Relative error = 1.0978791093924317e-6\n",
      " Relative error = 5.535691269023957e-7\n",
      " Relative error = 2.811497218925277e-7\n",
      " Relative error = 1.432369723913769e-7\n",
      " Relative error = 7.30766385397073e-8\n",
      " Entering displacemtent step29 :0.02900000000000002\n",
      " Relative error = 3.7306699370254914e-8\n",
      " Relative error = 0.00036679607191488503\n",
      " Relative error = 1.2725783285150597e-5\n",
      " Relative error = 4.476971726677577e-6\n",
      " Relative error = 2.280744805954745e-6\n",
      " Relative error = 1.2524868864192012e-6\n",
      " Relative error = 7.025934365453591e-7\n",
      " Relative error = 3.9730444463445967e-7\n",
      " Relative error = 2.2545925319206242e-7\n",
      " Relative error = 1.2815834118128233e-7\n",
      " Entering displacemtent step30 :0.03000000000000002\n",
      " Relative error = 7.291271008201244e-8\n",
      " Relative error = 0.00038049344836736703\n",
      " Relative error = 1.4439519749080087e-5\n",
      " Relative error = 5.642483987999309e-6\n",
      " Relative error = 3.1966758944661873e-6\n",
      " Relative error = 1.9548470034098795e-6\n",
      " Relative error = 1.2231187408787418e-6\n",
      " Relative error = 7.726089498863641e-7\n",
      " Relative error = 4.903529084529308e-7\n",
      " Relative error = 3.1203057819103367e-7\n",
      " Entering displacemtent step31 :0.03100000000000002\n",
      " Relative error = 1.9886548063746675e-7\n",
      " Relative error = 0.00038843431080768097\n",
      " Relative error = 1.63491415553342e-5\n",
      " Relative error = 7.182514224481827e-6\n",
      " Relative error = 4.559130993152883e-6\n",
      " Relative error = 3.12342392814326e-6\n",
      " Relative error = 2.193465910242742e-6\n",
      " Relative error = 1.5585077741399942e-6\n",
      " Relative error = 1.1148544690184842e-6\n",
      " Relative error = 8.009797809600092e-7\n",
      " Entering displacemtent step32 :0.03200000000000002\n",
      " Relative error = 5.771926999143419e-7\n",
      " Relative error = 0.0003935255321518034\n",
      " Relative error = 1.8620877730582685e-5\n",
      " Relative error = 9.359689223310343e-6\n",
      " Relative error = 6.733644769470729e-6\n",
      " Relative error = 5.222023353617883e-6\n",
      " Relative error = 4.1613858635005555e-6\n",
      " Relative error = 3.3660758753839567e-6\n",
      " Relative error = 2.7505332351684216e-6\n",
      " Relative error = 2.264933638647527e-6\n",
      " Entering displacemtent step33 :0.03300000000000002\n",
      " Relative error = 1.8765273911429507e-6\n",
      " Relative error = 0.0003929826273463585\n",
      " Relative error = 2.2000378817813418e-5\n",
      " Relative error = 1.3089679260312205e-5\n",
      " Relative error = 1.0905252871036452e-5\n",
      " Relative error = 9.753144813394833e-6\n",
      " Relative error = 8.981753107989519e-6\n",
      " Relative error = 8.429823932187363e-6\n",
      " Relative error = 8.031572486955509e-6\n",
      " Relative error = 7.752227533755264e-6\n",
      " Entering displacemtent step34 :0.03400000000000002\n",
      " Relative error = 7.5711832694132265e-6\n",
      " Relative error = 0.00037888189907387456\n",
      " Relative error = 3.15245827106689e-5\n",
      " Relative error = 2.3885266050921158e-5\n",
      " Relative error = 2.362693947506726e-5\n",
      " Relative error = 2.4586927032823733e-5\n",
      " Relative error = 2.6002064111075792e-5\n",
      " Relative error = 2.7602457715033658e-5\n",
      " Relative error = 2.9141394177684648e-5\n",
      " Relative error = 3.032187677826655e-5\n",
      " Entering displacemtent step35 :0.035000000000000024\n",
      " Relative error = 3.089984108168183e-5\n",
      " Relative error = 0.0003233426078456931\n",
      " Relative error = 5.8443322092794835e-5\n"
     ]
    },
    {
     "name": "stdout",
     "output_type": "stream",
     "text": [
      " Relative error = 4.682763006797819e-5\n",
      " Relative error = 4.3146877609494574e-5\n",
      " Relative error = 4.049989544591059e-5\n",
      " Relative error = 3.8183194171911545e-5\n",
      " Relative error = 3.5902817241913576e-5\n",
      " Relative error = 3.372817652573177e-5\n",
      " Relative error = 3.190466683773494e-5\n",
      " Entering displacemtent step36 :0.036000000000000025\n",
      " Relative error = 3.044877170927543e-5\n",
      " Relative error = 0.00028364624629146755\n",
      " Relative error = 5.9416572459228446e-5\n",
      " Relative error = 4.698525716342495e-5\n",
      " Relative error = 4.41438608021934e-5\n",
      " Relative error = 4.328242548601901e-5\n",
      " Relative error = 4.3415796800420136e-5\n",
      " Relative error = 4.343198676646632e-5\n",
      " Relative error = 4.288154668705214e-5\n",
      " Relative error = 4.1835916748219684e-5\n",
      " Entering displacemtent step37 :0.037000000000000026\n",
      " Relative error = 4.0979270409126794e-5\n",
      " Relative error = 0.00028849898906598513\n",
      " Relative error = 7.663939929707308e-5\n",
      " Relative error = 6.549400865344517e-5\n",
      " Relative error = 6.346460472897882e-5\n",
      " Relative error = 6.219139136738091e-5\n",
      " Relative error = 6.155559597734178e-5\n",
      " Relative error = 6.155790547676672e-5\n",
      " Relative error = 6.231027311188047e-5\n",
      " Relative error = 6.3836000868864e-5\n",
      " Entering displacemtent step38 :0.03800000000000003\n",
      " Relative error = 6.49873431482721e-5\n",
      " Relative error = 0.00030037563288551046\n",
      " Relative error = 0.00010402160411867282\n",
      " Relative error = 9.122631160603573e-5\n",
      " Relative error = 9.026094955100952e-5\n",
      " Relative error = 9.187707605507657e-5\n",
      " Relative error = 9.295937183656848e-5\n",
      " Relative error = 9.262767135006868e-5\n",
      " Relative error = 9.215866067239537e-5\n",
      " Relative error = 9.296030745543607e-5\n",
      " Entering displacemtent step39 :0.03900000000000003\n",
      " Relative error = 9.515665544954304e-5\n",
      " Relative error = 0.0003215180867347772\n",
      " Relative error = 0.00014078157253732647\n",
      " Relative error = 0.00012758107721199728\n",
      " Relative error = 0.0001269600812244614\n",
      " Relative error = 0.00012769511144125828\n",
      " Relative error = 0.00012740897414126404\n",
      " Relative error = 0.0001274851814282778\n",
      " Relative error = 0.00012837166668836384\n",
      " Relative error = 0.00012858009811917573\n",
      " Entering displacemtent step40 :0.04000000000000003\n",
      " Relative error = 0.00012851105758337052\n",
      " Relative error = 0.00034466014681755795\n",
      " Relative error = 0.00017902724392673198\n",
      " Relative error = 0.00016523280491285544\n",
      " Relative error = 0.00016303261353654144\n",
      " Relative error = 0.0001617379944350262\n",
      " Relative error = 0.00016044190529905725\n",
      " Relative error = 0.00015959477240943176\n",
      " Relative error = 0.00015807811354567932\n",
      " Relative error = 0.00015721672390379827\n",
      " Entering displacemtent step41 :0.04100000000000003\n",
      " Relative error = 0.0001566231876063094\n",
      " Relative error = 0.00035541131516008675\n",
      " Relative error = 0.00020750021769393596\n",
      " Relative error = 0.0001920911632256676\n",
      " Relative error = 0.0001873041404887787\n",
      " Relative error = 0.00018503450078553743\n",
      " Relative error = 0.0001819171564194087\n",
      " Relative error = 0.00018000865156900516\n",
      " Relative error = 0.0001780642750554479\n",
      " Relative error = 0.00017543441443558576\n",
      " Entering displacemtent step42 :0.04200000000000003\n",
      " Relative error = 0.00017385505708320334\n",
      " Relative error = 0.00035266529915105543\n",
      " Relative error = 0.00022325539411590476\n",
      " Relative error = 0.0002056437051774236\n",
      " Relative error = 0.00019894446120533846\n",
      " Relative error = 0.0001951280611744077\n",
      " Relative error = 0.0001906950637034333\n",
      " Relative error = 0.00018824340463831916\n",
      " Relative error = 0.00018544833601477848\n",
      " Relative error = 0.00018381732438179767\n",
      " Entering displacemtent step43 :0.04300000000000003\n",
      " Relative error = 0.000182029634711386\n",
      " Relative error = 0.00033738245952972547\n",
      " Relative error = 0.000231679901439824\n",
      " Relative error = 0.00021322761810359817\n",
      " Relative error = 0.0002069381727787026\n",
      " Relative error = 0.00020148903124782598\n",
      " Relative error = 0.0001983725758706233\n",
      " Relative error = 0.0001945578379976911\n",
      " Relative error = 0.00019241588353804948\n",
      " Relative error = 0.00018992717889517195\n",
      " Entering displacemtent step44 :0.04400000000000003\n",
      " Relative error = 0.0001882570986009377\n",
      " Relative error = 0.00031657129183389036\n",
      " Relative error = 0.0002389519193642671\n",
      " Relative error = 0.00022384815102799075\n",
      " Relative error = 0.0002180815392310372\n",
      " Relative error = 0.00021546351334734404\n",
      " Relative error = 0.00021349577024645577\n",
      " Relative error = 0.00021334281460359402\n",
      " Relative error = 0.00021375664581859682\n",
      " Relative error = 0.00021562847827253257\n",
      " Entering displacemtent step45 :0.04500000000000003\n",
      " Relative error = 0.00021830027159454283\n",
      " Relative error = 0.0003180867082858575\n",
      " Relative error = 0.00028354234842612293\n",
      " Relative error = 0.000283339775506447\n",
      " Relative error = 0.00029272799742554955\n",
      " Relative error = 0.00030874447805142154\n",
      " Relative error = 0.0003340337100566436\n",
      " Relative error = 0.00037124333283800677\n",
      " Relative error = 0.00042382605444488646\n",
      " Relative error = 0.00048099233179458277\n",
      " Entering displacemtent step46 :0.046000000000000034\n",
      " Relative error = 0.00043998902667914496\n",
      " Relative error = 0.00014165182557198628\n",
      " Relative error = 6.655465759803749e-6\n",
      " Relative error = 4.985709986692613e-7\n",
      " Relative error = 1.223520225917647e-7\n",
      " Relative error = 2.892130522213331e-8\n",
      " Relative error = 6.562084143633569e-9\n",
      " Entering displacemtent step47 :0.047000000000000035\n",
      " Relative error = 1.4150907992283736e-9\n",
      " Entering displacemtent step48 :0.048000000000000036\n",
      " Relative error = 1.9750602763665957e-7\n",
      " Relative error = 1.9226813535165676e-7\n",
      " Relative error = 6.764493696458883e-9\n",
      " Entering displacemtent step49 :0.04900000000000004\n",
      " Relative error = 1.0441432839897994e-9\n",
      " Entering displacemtent step50 :0.05000000000000004\n",
      " Relative error = 1.7430265321340334e-7\n",
      " Relative error = 1.7019520168157712e-7\n",
      " Relative error = 5.311283670071613e-9\n",
      " Entering displacemtent step51 :0.05100000000000004\n",
      " Relative error = 3.280113781318634e-10\n",
      " Entering displacemtent step52 :0.05200000000000004\n",
      " Relative error = 1.547211687814205e-7\n",
      " Relative error = 1.50687150283127e-7\n",
      " Relative error = 4.507180977644866e-9\n",
      " Entering displacemtent step53 :0.05300000000000004\n",
      " Relative error = 2.2839332348011932e-10\n",
      " Entering displacemtent step54 :0.05400000000000004\n",
      " Relative error = 1.3797589182185687e-7\n",
      " Relative error = 1.3430437897263256e-7\n",
      " Relative error = 3.291718805846646e-9\n",
      " Entering displacemtent step55 :0.05500000000000004\n",
      " Relative error = 1.5498338910940482e-10\n",
      " Entering displacemtent step56 :0.05600000000000004\n",
      " Relative error = 1.235701276378306e-7\n",
      " Relative error = 1.2018728858604227e-7\n",
      " Relative error = 2.6626366762610703e-9\n",
      " Entering displacemtent step57 :0.057000000000000044\n",
      " Relative error = 1.0366996007435501e-10\n",
      " Entering displacemtent step58 :0.058000000000000045\n",
      " Relative error = 1.1109900744667107e-7\n",
      " Relative error = 1.0790477599803619e-7\n",
      " Relative error = 2.2397004447383734e-9\n",
      " Entering displacemtent step59 :0.059000000000000045\n",
      " Relative error = 1.1576207188096878e-10\n",
      " Entering displacemtent step60 :0.060000000000000046\n",
      " Relative error = 1.0024796729236303e-7\n",
      " Relative error = 9.75074384542347e-8\n",
      " Relative error = 2.035408466823431e-9\n",
      " Entering displacemtent step61 :0.06100000000000005\n",
      " Relative error = 1.0526239281020646e-10\n",
      " Entering displacemtent step62 :0.06200000000000005\n",
      " Relative error = 1.1042493796582169e-7\n",
      " Relative error = 1.2074896600157548e-7\n",
      " Relative error = 2.133078974785825e-9\n",
      " Entering displacemtent step63 :0.06300000000000004\n",
      " Relative error = 5.126042662287823e-11\n",
      " Entering displacemtent step64 :0.06400000000000004\n",
      " Relative error = 1.3140788520390988e-7\n",
      " Relative error = 1.438809466356454e-7\n",
      " Relative error = 2.2786833193545945e-9\n",
      " Entering displacemtent step65 :0.06500000000000004\n",
      " Relative error = 4.547686418316896e-11\n",
      " Entering displacemtent step66 :0.06600000000000004\n",
      " Relative error = 1.4796061724184498e-7\n",
      " Relative error = 1.6075288889145414e-7\n",
      " Relative error = 2.5613894612980925e-9\n",
      " Entering displacemtent step67 :0.06700000000000005\n",
      " Relative error = 4.762615458982484e-11\n",
      " Entering displacemtent step68 :0.06800000000000005\n",
      " Relative error = 1.5643581982423248e-7\n",
      " Relative error = 1.572800139260346e-7\n",
      " Relative error = 2.4788686120763627e-9\n",
      " Entering displacemtent step69 :0.06900000000000005\n",
      " Relative error = 1.0309316288222531e-10\n",
      " Entering displacemtent step70 :0.07000000000000005\n"
     ]
    },
    {
     "name": "stdout",
     "output_type": "stream",
     "text": [
      " Relative error = 1.6528092846838552e-7\n",
      " Relative error = 1.748069874157865e-7\n",
      " Relative error = 3.0985965864288292e-9\n",
      " Entering displacemtent step71 :0.07100000000000005\n",
      " Relative error = 5.82346496330808e-11\n",
      " Entering displacemtent step72 :0.07200000000000005\n",
      " Relative error = 1.709978307966355e-7\n",
      " Relative error = 1.7324719778259948e-7\n",
      " Relative error = 3.320732643612563e-9\n",
      " Entering displacemtent step73 :0.07300000000000005\n",
      " Relative error = 6.435043341775837e-11\n",
      " Entering displacemtent step74 :0.07400000000000005\n",
      " Relative error = 1.6948202299618895e-7\n",
      " Relative error = 1.7209989718346075e-7\n",
      " Relative error = 3.2284041134734716e-9\n",
      " Entering displacemtent step75 :0.07500000000000005\n",
      " Relative error = 6.365638950067198e-11\n",
      " Entering displacemtent step76 :0.07600000000000005\n",
      " Relative error = 1.7175905390513473e-7\n",
      " Relative error = 1.9026580349352549e-7\n",
      " Relative error = 3.5371806434830263e-9\n",
      " Entering displacemtent step77 :0.07700000000000005\n",
      " Relative error = 7.284864793647301e-11\n",
      " Entering displacemtent step78 :0.07800000000000006\n",
      " Relative error = 1.8690650022818722e-7\n",
      " Relative error = 1.9533846842874484e-7\n",
      " Relative error = 3.735501831256531e-9\n",
      " Entering displacemtent step79 :0.07900000000000006\n",
      " Relative error = 8.049914932653619e-11\n",
      " Entering displacemtent step80 :0.08000000000000006\n",
      " Relative error = 2.062302600033581e-7\n",
      " Relative error = 2.1052845884570394e-7\n",
      " Relative error = 4.0310334044366954e-9\n",
      " Entering displacemtent step81 :0.08100000000000006\n",
      " Relative error = 1.0241988406538958e-10\n",
      " Entering displacemtent step82 :0.08200000000000006\n",
      " Relative error = 2.2092756766045496e-7\n",
      " Relative error = 2.312288078840308e-7\n",
      " Relative error = 4.373820793311988e-9\n",
      " Entering displacemtent step83 :0.08300000000000006\n",
      " Relative error = 1.1119056070469876e-10\n",
      " Entering displacemtent step84 :0.08400000000000006\n",
      " Relative error = 2.27866633070708e-7\n",
      " Relative error = 2.582028352920234e-7\n",
      " Relative error = 4.7268345856573716e-9\n",
      " Entering displacemtent step85 :0.08500000000000006\n",
      " Relative error = 1.6604147104398373e-10\n",
      " Entering displacemtent step86 :0.08600000000000006\n",
      " Relative error = 3.404759053241288e-7\n",
      " Relative error = 4.012700024417401e-7\n",
      " Relative error = 1.3594728863170705e-8\n",
      " Relative error = 7.36789960759901e-10\n",
      " Entering displacemtent step87 :0.08700000000000006\n",
      " Relative error = 4.313073298519191e-11\n",
      " Entering displacemtent step88 :0.08800000000000006\n",
      " Relative error = 4.5141191083815544e-7\n",
      " Relative error = 5.057867540598788e-7\n",
      " Relative error = 1.911297875174491e-8\n",
      " Relative error = 1.065348887174872e-9\n",
      " Entering displacemtent step89 :0.08900000000000007\n",
      " Relative error = 6.767438586547212e-11\n",
      " Entering displacemtent step90 :0.09000000000000007\n",
      " Relative error = 6.168788353039802e-7\n",
      " Relative error = 6.973866973908638e-7\n",
      " Relative error = 3.374818370241734e-8\n",
      " Relative error = 2.2730998892636385e-9\n",
      " Entering displacemtent step91 :0.09100000000000007\n",
      " Relative error = 1.7552901981459369e-10\n",
      " Entering displacemtent step92 :0.09200000000000007\n",
      " Relative error = 7.367900717659556e-7\n",
      " Relative error = 8.455938638872166e-7\n",
      " Relative error = 5.394064200604398e-8\n",
      " Relative error = 4.917320916731862e-9\n",
      " Entering displacemtent step93 :0.09300000000000007\n",
      " Relative error = 5.308477145410024e-10\n",
      " Entering displacemtent step94 :0.09400000000000007\n",
      " Relative error = 8.658361174446994e-7\n",
      " Relative error = 1.0054444145243586e-6\n",
      " Relative error = 7.401787210429304e-8\n",
      " Relative error = 7.709096965043686e-9\n",
      " Entering displacemtent step95 :0.09500000000000007\n",
      " Relative error = 9.356648314559999e-10\n",
      " Entering displacemtent step96 :0.09600000000000007\n",
      " Relative error = 1.0468297760244662e-6\n",
      " Relative error = 1.2195697827768192e-6\n",
      " Relative error = 1.101433003049136e-7\n",
      " Relative error = 1.4844246053459864e-8\n",
      " Relative error = 2.437598505895757e-9\n",
      " Entering displacemtent step97 :0.09700000000000007\n",
      " Relative error = 4.389126599785807e-10\n",
      " Entering displacemtent step98 :0.09800000000000007\n",
      " Relative error = 1.1882420340741862e-6\n",
      " Relative error = 1.3794319856090052e-6\n",
      " Relative error = 1.4469246259737022e-7\n",
      " Relative error = 2.2963833059862193e-8\n",
      " Relative error = 4.448671974331045e-9\n",
      " Entering displacemtent step99 :0.09900000000000007\n",
      " Relative error = 9.106516168962443e-10\n",
      " Entering displacemtent step100 :0.10000000000000007\n",
      " Relative error = 1.3536758854714288e-6\n",
      " Relative error = 1.5433096186647077e-6\n",
      " Relative error = 1.8516885868800682e-7\n",
      " Relative error = 3.490119307508302e-8\n",
      " Relative error = 8.12409387917706e-9"
     ]
    }
   ],
   "source": [
    "uApp = 0\n",
    "delu = 1e-3\n",
    "uAppMax = 0.1\n",
    "innerMax = 10\n",
    "count = 0\n",
    "Load = Float64[]\n",
    "Displacement = Float64[]\n",
    "Energy = Float64[]\n",
    "\n",
    "sPrev = CellState(1.0,dΩ)\n",
    "sh = project(sPrev,model,dΩ,order)\n",
    "ψPlusPrev = CellState(0.0,dΩ)\n",
    "ψhPos = CellState(0.0,dΩ)\n",
    "ψhPos_in = project(ψhPos,model,dΩ,order)\n",
    "\n",
    "while uApp .< uAppMax \n",
    "        \n",
    "    uApp = uApp .+ delu\n",
    "    count = count .+ 1\n",
    "    if uApp >= 3e-2\n",
    "        delv = 1e-4\n",
    "    end\n",
    "   \n",
    "    print(\"\\n Entering displacemtent step$count :\", float(uApp))\n",
    "    \n",
    "   for inner = 1:innerMax\n",
    "        \n",
    "        ψhPlusPrev = project(ψPlusPrev,model,dΩ,order)\n",
    "        \n",
    "        err = abs(sum(∫( Gc*lsp*∇(sh)⋅ ∇(sh) + 2*ψhPlusPrev*sh*sh  + (Gc/lsp)*sh*sh)*dΩ - ∫( (Gc/lsp)*sh)*dΩ))/abs(sum(∫( (Gc/lsp)*sh)*dΩ))\n",
    "        print(\"\\n Relative error = \",float(err))\n",
    "        \n",
    "        sh = stepPhaseField(uh,ψhPlusPrev) \n",
    "        uh,θh = stepDisp(uh,θh,sh,uApp)\n",
    "        \n",
    "        ψhPos_in = ψPos∘(ε(uh),∇(uh),θh,∇(θh))      \n",
    "        \n",
    "        update_state!(new_EnergyState,ψPlusPrev,ψhPos_in)\n",
    "        \n",
    "        if err < 1e-8\n",
    "            break \n",
    "        end\n",
    "    end\n",
    "    \n",
    "    Node_Force = sum(∫( n_Γ_Load ⋅ (σ_Bmod∘(ε(uh),ε(uh),sh)) ) *dΓ_Load + ∫( n_Γ_Load ⋅ (σ_Cmod∘(ε_Skw∘(∇(uh),θh),sh) ) )  *dΓ_Load)\n",
    "    \n",
    "    p = get_cell_points(dE_Load)\n",
    "    A = evaluate(ψPos∘(ε(uh),∇(uh),θh, ∇(θh)),p)\n",
    "    B = [A[i][j] for i in 1:size(A,1), j in 1:2]\n",
    "    PosEn = maximum(B)\n",
    "    \n",
    "    push!(Energy, PosEn)\n",
    "    push!(Load, Node_Force[2])\n",
    "    push!(Displacement, uApp)\n",
    "    if mod(count,10) == 0\n",
    "         writevtk(Ω,\"results_PhaseFieldNotchedBeam_Spectral$count\",cellfields=\n",
    "        [\"uh\"=>uh,\"s\"=>sh ,\"θ\" => θh, \"epsi\"=>ε(uh)])\n",
    "    end\n",
    "end"
   ]
  },
  {
   "cell_type": "code",
   "execution_count": 30,
   "id": "cf4184cd",
   "metadata": {},
   "outputs": [
    {
     "data": {
      "text/plain": [
       "([\"results_PhaseFieldNotchedBeam_Spectral100.vtu\"],)"
      ]
     },
     "execution_count": 30,
     "metadata": {},
     "output_type": "execute_result"
    }
   ],
   "source": [
    "writevtk(Ω,\"results_PhaseFieldNotchedBeam_Spectral$count\",cellfields=\n",
    "        [\"uh\"=>uh,\"s\"=>sh ,\"θ\" => θh, \"epsi\"=>ε(uh)])"
   ]
  },
  {
   "cell_type": "code",
   "execution_count": 31,
   "id": "emerging-negative",
   "metadata": {
    "scrolled": true
   },
   "outputs": [
    {
     "data": {
      "image/png": "[encoded data removed]",
      "text/plain": [
       "Figure(PyObject <Figure size 640x480 with 1 Axes>)"
      ]
     },
     "metadata": {},
     "output_type": "display_data"
    },
    {
     "data": {
      "text/plain": [
       "1-element Vector{PyCall.PyObject}:\n",
       " PyObject <matplotlib.lines.Line2D object at 0x7fe6fb46b2b0>"
      ]
     },
     "execution_count": 31,
     "metadata": {},
     "output_type": "execute_result"
    }
   ],
   "source": [
    "plot(Displacement,-Load)"
   ]
  },
  {
   "cell_type": "code",
   "execution_count": 32,
   "id": "fb9175f5",
   "metadata": {},
   "outputs": [],
   "source": [
    "cd(\"../DispLoadData_THreePointBending_Vol-Dev\")"
   ]
  },
  {
   "cell_type": "code",
   "execution_count": 33,
   "id": "f567a89a",
   "metadata": {},
   "outputs": [],
   "source": [
    "using DelimitedFiles\n",
    "Disp = writedlm( \"DispDataNotchedBeam_Vol-Dev_N0.5_l0.5.csv\",  Displacement, ',')\n",
    "Force = writedlm(\"LoadDataNotchedBeam_Vol-Dev_N0.5_l0.5.csv\",  Load, ',')\n",
    "Energy = writedlm(\"EnergyDataNotchedBeam_Vol-Dev_N0.5_l0.5.csv\",  Energy, ',')"
   ]
  }
 ],
 "metadata": {
  "@webio": {
   "lastCommId": null,
   "lastKernelId": null
  },
  "kernelspec": {
   "display_name": "Julia 1.8.0",
   "language": "julia",
   "name": "julia-1.8"
  },
  "language_info": {
   "file_extension": ".jl",
   "mimetype": "application/julia",
   "name": "julia",
   "version": "1.8.0"
  }
 },
 "nbformat": 4,
 "nbformat_minor": 5
}
